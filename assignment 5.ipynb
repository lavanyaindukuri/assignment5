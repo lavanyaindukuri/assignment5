{
 "cells": [
  {
   "cell_type": "code",
   "execution_count": null,
   "id": "396bf75a",
   "metadata": {},
   "outputs": [],
   "source": [
    " 1. What does an empty dictionary's code look like?\n",
    " Ans. the empty dictionary's is represented by curly brackets().\n",
    "      eg: d=dict()\n",
    " \n",
    "2. What is the value of a dictionary value with the key foo and the value 42?\n",
    "Ans .{'foo':42}\n",
    "\n",
    "3. What is the most significant distinction between a dictionary and a list?\n",
    "Ans.The dictionary is represented by {}.The items in dictionary are unordered.\n",
    "    Lists are represented by[].The items in list are ordered.\n",
    "    \n",
    "4. What happens if you try to access spam['foo'] if spam is {'bar': 100}?\n",
    "Ans. keyError :{'foo\"}\n",
    "\n",
    "5. If a dictionary is stored in spam, what is the difference between the expressions 'cat' in spam and\n",
    "'cat' in spam.keys()?\n",
    "Ans. There's no difference.The operator checks whether the value exists in a dictionary or not.\n",
    "\n",
    "6. If a dictionary is stored in spam, what is the difference between the expressions 'cat' in spam and\n",
    "'cat' in spam.values()?\n",
    "Ans.'cat' in spam checks whether there is a 'cat' key in the dictionary, while 'cat' in spam.values() checks whether there is a value 'cat' for one of the keys in spam.\n",
    "\n",
    "7. What is a shortcut for the following code?\n",
    "if 'color' not in spam:\n",
    "spam['color'] = 'black'\n",
    "Ans.spam.setdefault['color','black']\n",
    "\n",
    "8. How do you \"pretty print\" dictionary values using which module and function?\n",
    "Ans.1.by using pprint() function of pprint module\n",
    "    2.by using dumps() method of json module\n",
    "    3.by using dumps() method of yaml module"
   ]
  },
  {
   "cell_type": "code",
   "execution_count": null,
   "id": "886d4781",
   "metadata": {},
   "outputs": [],
   "source": []
  }
 ],
 "metadata": {
  "kernelspec": {
   "display_name": "Python 3 (ipykernel)",
   "language": "python",
   "name": "python3"
  },
  "language_info": {
   "codemirror_mode": {
    "name": "ipython",
    "version": 3
   },
   "file_extension": ".py",
   "mimetype": "text/x-python",
   "name": "python",
   "nbconvert_exporter": "python",
   "pygments_lexer": "ipython3",
   "version": "3.9.13"
  }
 },
 "nbformat": 4,
 "nbformat_minor": 5
}
